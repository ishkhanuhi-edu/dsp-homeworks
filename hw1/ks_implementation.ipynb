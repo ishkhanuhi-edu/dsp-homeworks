{
 "cells": [
  {
   "cell_type": "markdown",
   "source": [
    "- You have to implement Karplus Strong alogrithm, by the formula y[n] = x[n] + a * y[n-M], where 0 < a < 1, x[n] is finite support, x[n] = y[n] = 0 if n < 0.\n",
    "- You have to create function which takes vector x, a, and N as length of output signal and returns y[n]\n",
    "- You have to create function which generates random x vector, feeds it to previous function and saves y[n] output signal as .wav file\n",
    "Using last function you have to create wav examples"
   ],
   "metadata": {
    "collapsed": false
   }
  },
  {
   "cell_type": "code",
   "execution_count": null,
   "outputs": [],
   "source": [
    "import numpy as np\n",
    "import wave\n",
    "import struct\n",
    "import random\n",
    "\n",
    "def karplus_strong(x, a, N):\n",
    "    \"\"\"\n",
    "    Implements the Karplus-Strong algorithm.\n",
    "\n",
    "    :param x: Input vector x.\n",
    "    :param a: Coefficient for the filter, where 0 < a < 1.\n",
    "    :param N: Length of the output signal.\n",
    "    :return: The generated signal y[n].\n",
    "    \"\"\"\n",
    "    # Initialize y with zeros\n",
    "    y = np.zeros(N)\n",
    "    M = len(x)\n",
    "\n",
    "    # Ensure that a is within the valid range\n",
    "    if not (0 < a < 1):\n",
    "        raise ValueError(\"The coefficient 'a' must be between 0 and 1.\")\n",
    "\n",
    "    # Fill in the initial part of y with x\n",
    "    y[:M] = x\n",
    "\n",
    "    # Apply the Karplus-Strong algorithm\n",
    "    for n in range(M, N):\n",
    "        y[n] = a * y[n - M]\n",
    "\n",
    "    return y\n",
    "\n",
    "def generate_and_save_signal(a, N, filename):\n",
    "    \"\"\"\n",
    "    Generates a random x vector, applies the Karplus-Strong algorithm, and saves the output as a .wav file.\n",
    "\n",
    "    :param a: Coefficient for the filter.\n",
    "    :param N: Length of the output signal.\n",
    "    :param filename: Name of the .wav file to save the signal.\n",
    "    \"\"\"\n",
    "    # Generate a random x vector of length M\n",
    "    M = random.randint(20, 40)  # Random length for the excitation signal\n",
    "    x = np.random.rand(M) - 0.5  # Random values between -0.5 and 0.5\n",
    "\n",
    "    # Generate the signal\n",
    "    y = karplus_strong(x, a, N)\n",
    "\n",
    "    # Normalize the signal to 16-bit range\n",
    "    y = np.int16(y / np.max(np.abs(y)) * 32767)\n",
    "\n",
    "    # Open a .wav file for writing\n",
    "    with wave.open(filename, 'w') as wav_file:\n",
    "        # Set the parameters for the .wav file\n",
    "        wav_file.setparams((1, 2, 44100, N, 'NONE', 'not compressed'))\n",
    "\n",
    "        # Write the data to the .wav file\n",
    "        for value in y:\n",
    "            data = struct.pack('<h', value)\n",
    "            wav_file.writeframesraw(data)\n",
    "\n",
    "    return filename\n",
    "\n",
    "# Example usage\n",
    "example_files = []\n",
    "for i in range(3):\n",
    "    filename = f\"generated-examples/karplus_strong_example_{i+1}.wav\"\n",
    "    example_files.append(generate_and_save_signal(0.5, 44100, filename))\n",
    "\n",
    "example_files\n"
   ],
   "metadata": {
    "collapsed": false,
    "pycharm": {
     "is_executing": true
    }
   }
  },
  {
   "cell_type": "code",
   "execution_count": null,
   "outputs": [],
   "source": [],
   "metadata": {
    "collapsed": false
   }
  }
 ],
 "metadata": {
  "kernelspec": {
   "display_name": "Python 3",
   "language": "python",
   "name": "python3"
  },
  "language_info": {
   "codemirror_mode": {
    "name": "ipython",
    "version": 2
   },
   "file_extension": ".py",
   "mimetype": "text/x-python",
   "name": "python",
   "nbconvert_exporter": "python",
   "pygments_lexer": "ipython2",
   "version": "2.7.6"
  }
 },
 "nbformat": 4,
 "nbformat_minor": 0
}
